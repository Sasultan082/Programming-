{
 "cells": [
  {
   "cell_type": "markdown",
   "id": "7f5d3d9c",
   "metadata": {},
   "source": [
    "# 擷取亞大資工系副教授的研究領域並儲存為 TXT"
   ]
  },
  {
   "cell_type": "code",
   "execution_count": null,
   "id": "3e6c0638",
   "metadata": {},
   "outputs": [],
   "source": [
    "import requests\n",
    "from bs4 import BeautifulSoup\n",
    "\n",
    "\n",
    "url = \"https://csie.asia.edu.tw/zh_tw/associate_professors_2\"\n",
    "\n",
    "\n",
    "response = requests.get(url)\n",
    "response.encoding = 'utf-8'\n",
    "\n",
    "\n",
    "soup = BeautifulSoup(response.text, \"html.parser\")\n",
    "\n",
    "\n",
    "profile_blocks = soup.find_all(\"div\", class_=\"i-member-profile-data\")\n",
    "\n",
    "\n",
    "research_areas = []\n",
    "\n",
    "\n",
    "for block in profile_blocks:\n",
    "    \n",
    "    text = block.get_text(separator=\"|\", strip=True)\n",
    "    parts = text.split(\"|\")\n",
    "    for part in parts:\n",
    "        if \"研究領域\" in part:\n",
    "            area = part.replace(\"研究領域：\", \"\").strip()\n",
    "            research_areas.append(area)\n",
    "            break\n",
    "\n",
    "\n",
    "with open(\"research_areas.txt\", \"w\", encoding=\"utf-8\") as f:\n",
    "    for area in research_areas:\n",
    "        f.write(area + \"\\n\")\n",
    "\n",
    "print(\"已儲存研究領域至 research_areas.txt\")\n"
   ]
  }
 ],
 "metadata": {
  "kernelspec": {
   "display_name": "Python 3",
   "name": "python3"
  }
 },
 "nbformat": 4,
 "nbformat_minor": 5
}
